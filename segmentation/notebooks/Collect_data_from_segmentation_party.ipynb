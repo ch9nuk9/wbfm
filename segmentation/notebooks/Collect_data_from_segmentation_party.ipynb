{
 "cells": [
  {
   "cell_type": "code",
   "execution_count": 1,
   "id": "9ed31bcd",
   "metadata": {},
   "outputs": [],
   "source": [
    "import os\n",
    "import zarr\n",
    "import tifffile\n",
    "import numpy as np\n",
    "import pandas as pd\n",
    "import matplotlib.pyplot as plt"
   ]
  },
  {
   "cell_type": "code",
   "execution_count": 2,
   "id": "7089dbaa",
   "metadata": {},
   "outputs": [],
   "source": [
    "# Input format: Multiple zarr files for each type of data\n",
    "# Stardist desired output: single tif file for everything\n",
    "# Strategy: read all data and masks into numpy, then save"
   ]
  },
  {
   "cell_type": "code",
   "execution_count": 3,
   "id": "2ef6d8f0",
   "metadata": {},
   "outputs": [],
   "source": [
    "dir_name = r\"Y:\\shared_projects\\wbfm\\Annotation_party\"\n",
    "\n",
    "all_data = []\n",
    "all_masks = []\n",
    "\n",
    "index = ['False positives', 'False negatives', 'Undersegmentation', 'Oversegmentation', 'Total']\n",
    "df = pd.DataFrame(index=index)"
   ]
  },
  {
   "cell_type": "markdown",
   "id": "f756585f",
   "metadata": {},
   "source": [
    "# Collect individual datasets"
   ]
  },
  {
   "cell_type": "markdown",
   "id": "bdad0522",
   "metadata": {},
   "source": [
    "## Itamar"
   ]
  },
  {
   "cell_type": "code",
   "execution_count": 4,
   "id": "e8e5a895",
   "metadata": {},
   "outputs": [],
   "source": [
    "project = \"Party-GFP_normal-2021_05_28\"\n",
    "\n",
    "mask_fname = os.path.join(dir_name, project, \"1-segmentation\", \"corrected_masks.zarr\")\n",
    "data_fname = os.path.join(dir_name, project, \"data_subset.tiff\")\n",
    "\n",
    "# Collect from google doc by hand\n",
    "finished_ind = [0, 9]\n",
    "\n",
    "# Read data and masks\n",
    "dat = tifffile.imread(data_fname)\n",
    "masks = zarr.open_array(mask_fname)\n",
    "\n",
    "rows = map(lambda x: project + str(x), finished_ind)\n",
    "stats = [[4, 18, 1, 7], \n",
    "         [5, 14, 0, 5]]\n",
    "\n",
    "for i, (r, stat) in enumerate(zip(rows, stats)):\n",
    "    stat.append(len(np.unique(masks[i,...]))-1)\n",
    "    df[r] = stat\n",
    "    \n",
    "all_data.extend([dat[i,...] for i in finished_ind])\n",
    "all_masks.extend([masks[i,...] for i in finished_ind])"
   ]
  },
  {
   "cell_type": "markdown",
   "id": "8c1bb024",
   "metadata": {},
   "source": [
    "## Kerem"
   ]
  },
  {
   "cell_type": "code",
   "execution_count": 5,
   "id": "cfd78b17",
   "metadata": {},
   "outputs": [],
   "source": [
    "project = \"Party-GFP_turning_3d-2021_05_28\"\n",
    "\n",
    "mask_fname = os.path.join(dir_name, project, \"1-segmentation\", \"corrected_masks.zarr\")\n",
    "data_fname = os.path.join(dir_name, project, \"data_subset.tiff\")\n",
    "\n",
    "# Collect from google doc by hand\n",
    "finished_ind = [0, 1]\n",
    "\n",
    "rows = map(lambda x: project + str(x), finished_ind)\n",
    "stats = [[4, 22, 0, 2], \n",
    "         [0, 23, 0, 0]]\n",
    "\n",
    "# Read data and masks\n",
    "dat = tifffile.imread(data_fname)\n",
    "masks = zarr.open_array(mask_fname)\n",
    "\n",
    "for i, (r, stat) in enumerate(zip(rows, stats)):\n",
    "    stat.append(len(np.unique(masks[i,...]))-1)\n",
    "    df[r] = stat\n",
    "\n",
    "all_data.extend([dat[i,...] for i in finished_ind])\n",
    "all_masks.extend([masks[i,...] for i in finished_ind])"
   ]
  },
  {
   "cell_type": "markdown",
   "id": "ab37183c",
   "metadata": {},
   "source": [
    "## Lukas"
   ]
  },
  {
   "cell_type": "code",
   "execution_count": 6,
   "id": "33fbf7c7",
   "metadata": {},
   "outputs": [],
   "source": [
    "project = \"Party-GFP_turning_2d-2021_05_28\"\n",
    "\n",
    "mask_fname = os.path.join(dir_name, project, \"1-segmentation\", \"corrected_masks.zarr\")\n",
    "data_fname = os.path.join(dir_name, project, \"data_subset.tiff\")\n",
    "\n",
    "# Collect from google doc by hand\n",
    "finished_ind = [0, 1, 2]\n",
    "\n",
    "rows = map(lambda x: project + str(x), finished_ind)\n",
    "stats = [[0,12,4,3], \n",
    "         [1,9,2,2]]\n",
    "\n",
    "# Read data and masks\n",
    "dat = tifffile.imread(data_fname)\n",
    "masks = zarr.open_array(mask_fname)\n",
    "\n",
    "for i, (r, stat) in enumerate(zip(rows, stats)):\n",
    "    stat.append(len(np.unique(masks[i,...]))-1)\n",
    "    df[r] = stat\n",
    "\n",
    "all_data.extend([dat[i,...] for i in finished_ind])\n",
    "all_masks.extend([masks[i,...] for i in finished_ind])"
   ]
  },
  {
   "cell_type": "markdown",
   "id": "61736ae1",
   "metadata": {},
   "source": [
    "# Nisa"
   ]
  },
  {
   "cell_type": "code",
   "execution_count": 7,
   "id": "176d9f42",
   "metadata": {},
   "outputs": [],
   "source": [
    "project = \"Party-Normal_normal-2021_05_28\"\n",
    "\n",
    "mask_fname = os.path.join(dir_name, project, \"1-segmentation\", \"corrected_masks.zarr\")\n",
    "data_fname = os.path.join(dir_name, project, \"data_subset.tiff\")\n",
    "\n",
    "# Collect from google doc by hand\n",
    "finished_ind = [0, 1, 2]\n",
    "\n",
    "rows = map(lambda x: project + str(x), finished_ind)\n",
    "stats = [[2,6,3,1], \n",
    "         [3,7,6,2],\n",
    "         [1,20,26,2]]\n",
    "    \n",
    "# Read data and masks\n",
    "dat = tifffile.imread(data_fname)\n",
    "masks = zarr.open_array(mask_fname)\n",
    "\n",
    "for i, (r, stat) in enumerate(zip(rows, stats)):\n",
    "    stat.append(len(np.unique(masks[i,...]))-1)\n",
    "    df[r] = stat\n",
    "\n",
    "all_data.extend([dat[i,...] for i in finished_ind])\n",
    "all_masks.extend([masks[i,...] for i in finished_ind])"
   ]
  },
  {
   "cell_type": "markdown",
   "id": "9b21a2ad",
   "metadata": {},
   "source": [
    "# Ulises"
   ]
  },
  {
   "cell_type": "code",
   "execution_count": 8,
   "id": "f51920b4",
   "metadata": {},
   "outputs": [],
   "source": [
    "project = \"Party-Normal_turning_3d-2021_05_28\"\n",
    "\n",
    "mask_fname = os.path.join(dir_name, project, \"1-segmentation\", \"corrected_masks.zarr\")\n",
    "data_fname = os.path.join(dir_name, project, \"data_subset.tiff\")\n",
    "\n",
    "# Collect from google doc by hand\n",
    "finished_ind = [0, 1, 2]\n",
    "\n",
    "rows = map(lambda x: project + str(x), finished_ind)\n",
    "stats = [[1,2,1,1], \n",
    "         [3,4,1,0],\n",
    "         [1,4,0,0]]\n",
    "\n",
    "# Read data and masks\n",
    "dat = tifffile.imread(data_fname)\n",
    "masks = zarr.open_array(mask_fname)\n",
    "\n",
    "for i, (r, stat) in enumerate(zip(rows, stats)):\n",
    "    stat.append(len(np.unique(masks[i,...]))-1)\n",
    "    df[r] = stat\n",
    "\n",
    "all_data.extend([dat[i,...] for i in finished_ind])\n",
    "all_masks.extend([masks[i,...] for i in finished_ind])"
   ]
  },
  {
   "cell_type": "markdown",
   "id": "4370b55e",
   "metadata": {},
   "source": [
    "# Rebecca\n"
   ]
  },
  {
   "cell_type": "code",
   "execution_count": 9,
   "id": "16144ff9",
   "metadata": {},
   "outputs": [],
   "source": [
    "project = \"Party-Normal_turning_2d-2021_05_28\"\n",
    "\n",
    "mask_fname = os.path.join(dir_name, project, \"1-segmentation\", \"corrected_masks.zarr\")\n",
    "data_fname = os.path.join(dir_name, project, \"data_subset.tiff\")\n",
    "\n",
    "# Collect from google doc by hand\n",
    "finished_ind = [0]\n",
    "\n",
    "rows = map(lambda x: project + str(x), finished_ind)\n",
    "stats = [[0,3,10,2]]\n",
    "\n",
    "# Read data and masks\n",
    "dat = tifffile.imread(data_fname)\n",
    "masks = zarr.open_array(mask_fname)\n",
    "\n",
    "for i, (r, stat) in enumerate(zip(rows, stats)):\n",
    "    stat.append(len(np.unique(masks[i,...]))-1)\n",
    "    df[r] = stat\n",
    "\n",
    "all_data.extend([dat[i,...] for i in finished_ind])\n",
    "all_masks.extend([masks[i,...] for i in finished_ind])"
   ]
  },
  {
   "cell_type": "markdown",
   "id": "a00c41b8",
   "metadata": {},
   "source": [
    "# Charlie - DIFFERENT SIZE"
   ]
  },
  {
   "cell_type": "code",
   "execution_count": 10,
   "id": "981a7e04",
   "metadata": {},
   "outputs": [],
   "source": [
    "# project = \"Party-Immobilized-2021_05_28\"\n",
    "\n",
    "# mask_fname = os.path.join(dir_name, project, \"1-segmentation\", \"corrected_masks.zarr\")\n",
    "# data_fname = os.path.join(dir_name, project, \"data_subset.tiff\")\n",
    "\n",
    "# # Collect from google doc by hand\n",
    "# finished_ind = [0]\n",
    "\n",
    "# rows = map(lambda x: project + str(x), finished_ind)\n",
    "# stats = [[0,23,1,1]]\n",
    "\n",
    "# for r, stat in zip(rows, stats):\n",
    "#     df[r] = stat\n",
    "\n",
    "# # Read data and masks\n",
    "# dat = tifffile.imread(data_fname)\n",
    "# masks = zarr.open_array(mask_fname)\n",
    "\n",
    "# all_data.extend([dat[i,...] for i in finished_ind])\n",
    "# all_masks.extend([masks[i,...] for i in finished_ind])"
   ]
  },
  {
   "cell_type": "markdown",
   "id": "5a6e1940",
   "metadata": {},
   "source": [
    "# Save"
   ]
  },
  {
   "cell_type": "code",
   "execution_count": 11,
   "id": "173d4cd0",
   "metadata": {},
   "outputs": [],
   "source": [
    "out_fname = 'segmentation_party_statistics.pickle'\n",
    "df.to_pickle(out_fname)"
   ]
  },
  {
   "cell_type": "code",
   "execution_count": 12,
   "id": "fe4a807d",
   "metadata": {},
   "outputs": [],
   "source": [
    "# out_fname = 'data_from_segmentation_party.tiff'\n",
    "# reshaped_data = [d[:29,...] for d in all_data]\n",
    "# data = np.stack(reshaped_data, axis=0)\n",
    "# tifffile.imwrite(out_fname, data)"
   ]
  },
  {
   "cell_type": "code",
   "execution_count": 13,
   "id": "47f966d8",
   "metadata": {},
   "outputs": [],
   "source": [
    "# out_fname = 'masks_from_segmentation_party.tiff'\n",
    "# reshaped_masks = [m[:29,...] for m in all_masks]\n",
    "# masks = np.stack(reshaped_masks, axis=0)\n",
    "# tifffile.imwrite(out_fname, masks)"
   ]
  },
  {
   "cell_type": "code",
   "execution_count": null,
   "id": "69d167dd",
   "metadata": {},
   "outputs": [],
   "source": []
  }
 ],
 "metadata": {
  "kernelspec": {
   "display_name": "Python 3 (ipykernel)",
   "language": "python",
   "name": "python3"
  },
  "language_info": {
   "codemirror_mode": {
    "name": "ipython",
    "version": 3
   },
   "file_extension": ".py",
   "mimetype": "text/x-python",
   "name": "python",
   "nbconvert_exporter": "python",
   "pygments_lexer": "ipython3",
   "version": "3.7.12"
  }
 },
 "nbformat": 4,
 "nbformat_minor": 5
}
