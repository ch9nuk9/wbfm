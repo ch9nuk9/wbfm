{
 "cells": [
  {
   "cell_type": "code",
   "execution_count": null,
   "metadata": {},
   "outputs": [],
   "source": [
    "import os\n",
    "from segmentation.scripts.interface_script import segment_full_video\n",
    "import pandas as pd\n",
    "from DLC_for_WBFM.utils.feature_detection.class_reference_frame import PreprocessingSettings\n",
    "%load_ext autoreload\n",
    "%autoreload 2"
   ]
  },
  {
   "cell_type": "code",
   "execution_count": null,
   "metadata": {},
   "outputs": [],
   "source": [
    "# Get the 3d bigtiff folder\n",
    "bigtiff_folder = r'D:\\More-stabilized-wbfm'\n",
    "\n",
    "btf_fname_red = r'test2020-10-22_16-15-20_test4-channel-0-pco_camera1\\prealigned-vol101-201.tif'\n",
    "btf_fname_red = os.path.join(bigtiff_folder, btf_fname_red)\n"
   ]
  },
  {
   "cell_type": "code",
   "execution_count": null,
   "metadata": {
    "scrolled": true
   },
   "outputs": [],
   "source": [
    "p = PreprocessingSettings(alpha=1.0, final_dtype='uint16', do_rigid_alignment=True)\n",
    "\n",
    "out = segment_full_video(btf_fname_red,\n",
    "                         start_volume=0,\n",
    "                         num_frames=100,\n",
    "                         preprocessing=p,\n",
    "                         stardist_model_name='lukas',\n",
    "                         num_slices=33,\n",
    "                         options={})"
   ]
  },
  {
   "cell_type": "code",
   "execution_count": null,
   "metadata": {},
   "outputs": [],
   "source": [
    "fname = 'masks-100-prealigned.pickle'\n",
    "import pickle\n",
    "with open(fname, 'wb') as f:\n",
    "    pickle.dump(out, f)"
   ]
  },
  {
   "cell_type": "code",
   "execution_count": null,
   "metadata": {},
   "outputs": [],
   "source": []
  }
 ],
 "metadata": {
  "kernelspec": {
   "display_name": "Python 3",
   "language": "python",
   "name": "python3"
  },
  "language_info": {
   "codemirror_mode": {
    "name": "ipython",
    "version": 3
   },
   "file_extension": ".py",
   "mimetype": "text/x-python",
   "name": "python",
   "nbconvert_exporter": "python",
   "pygments_lexer": "ipython3",
   "version": "3.8.3"
  }
 },
 "nbformat": 4,
 "nbformat_minor": 5
}
